{
 "cells": [
  {
   "cell_type": "markdown",
   "id": "27422808-8a16-4be1-897f-57b379af8991",
   "metadata": {},
   "source": [
    "# Lab | APIs"
   ]
  },
  {
   "cell_type": "markdown",
   "id": "50f30950-3e31-499a-92ea-1535422c570b",
   "metadata": {},
   "source": [
    "In order to use the `Spotify` API (`SpotiPy`), create an account in `Spotify` and follow [these](https://developer.spotify.com/documentation/general/guides/app-settings/) steps. "
   ]
  },
  {
   "cell_type": "markdown",
   "id": "a0479b95-6ca5-415e-b894-1f5cb17b055b",
   "metadata": {},
   "source": [
    "## Authentication and initializing the API"
   ]
  },
  {
   "cell_type": "markdown",
   "id": "47d71611-c617-4972-a0c3-7090c24b399c",
   "metadata": {},
   "source": [
    "Save your client ID and your client secret in your preferred way, and read it or load it into the following variables:\n",
    "```\n",
    "CLIENT_ID = \"<introduce your client id>\"\n",
    "CLIENT_SECRET = \"<introduce your client secret>\"\n",
    "```\n",
    "If you havent done so, install the spotipy wrapper\n",
    "```\n",
    "!pip install spotipy\n",
    "```"
   ]
  },
  {
   "cell_type": "markdown",
   "id": "dc0e86da-8846-4207-84c3-cd20b9e01d0e",
   "metadata": {},
   "source": [
    "Once you have done it, we will start initializing the API."
   ]
  },
  {
   "cell_type": "code",
   "execution_count": 3,
   "id": "03034bc6-9858-412a-83b7-18abdc345d7e",
   "metadata": {},
   "outputs": [],
   "source": [
    "import spotipy\n",
    "import os\n",
    "\n",
    "from spotipy.oauth2 import SpotifyClientCredentials\n",
    "\n",
    "from dotenv import load_dotenv, find_dotenv\n",
    "\n",
    "load_dotenv()\n",
    "\n",
    "CLIENT_ID = os.getenv(\"CLIENT_ID\")\n",
    "CLIENT_SECRET = os.getenv(\"CLIENT_SECRET\")\n",
    "\n",
    "#Initialize SpotiPy with user credentials\n",
    "sp = spotipy.Spotify(auth_manager=SpotifyClientCredentials(client_id=CLIENT_ID,\n",
    "                                                           client_secret=CLIENT_SECRET))"
   ]
  },
  {
   "cell_type": "markdown",
   "id": "8fed9628-08d7-4290-a4be-5527696b01c5",
   "metadata": {},
   "source": [
    "## Using the search method"
   ]
  },
  {
   "cell_type": "markdown",
   "id": "6575a3c6-f25a-4905-b1f3-c0efd50dcc1e",
   "metadata": {},
   "source": [
    "Now, let's use the search method by introducing a \"query\". For example, let's try searching for \"Lady Gaga\":"
   ]
  },
  {
   "cell_type": "code",
   "execution_count": null,
   "id": "7772a1e0-9692-4d04-a590-76111a272d8d",
   "metadata": {
    "tags": []
   },
   "outputs": [],
   "source": [
    "results = sp.search(q='Lady Gaga', limit=50)\n",
    "results"
   ]
  },
  {
   "cell_type": "code",
   "execution_count": 58,
   "id": "edc14c95-474b-4e2a-aea3-bdfd0a205546",
   "metadata": {},
   "outputs": [
    {
     "data": {
      "text/plain": [
       "dict_keys(['tracks'])"
      ]
     },
     "execution_count": 58,
     "metadata": {},
     "output_type": "execute_result"
    }
   ],
   "source": [
    "results.keys() # We can see that we only have tracks"
   ]
  },
  {
   "cell_type": "code",
   "execution_count": 59,
   "id": "ad8ef934-1dbb-4008-ac8e-f5c29823fe6a",
   "metadata": {},
   "outputs": [
    {
     "data": {
      "text/plain": [
       "dict_keys(['href', 'items', 'limit', 'next', 'offset', 'previous', 'total'])"
      ]
     },
     "execution_count": 59,
     "metadata": {},
     "output_type": "execute_result"
    }
   ],
   "source": [
    "results[\"tracks\"].keys() # Let's check the values"
   ]
  },
  {
   "cell_type": "code",
   "execution_count": null,
   "id": "004b7814-4dd5-408e-b7ba-1da87f9250cb",
   "metadata": {},
   "outputs": [],
   "source": [
    "results[\"tracks\"][\"href\"] # Query we have searched "
   ]
  },
  {
   "cell_type": "code",
   "execution_count": null,
   "id": "7285cedd-fbe1-47cf-98d5-a7fdc3e5c8b8",
   "metadata": {
    "scrolled": true,
    "tags": []
   },
   "outputs": [],
   "source": [
    "results[\"tracks\"][\"items\"] #items (actual tracks)"
   ]
  },
  {
   "cell_type": "code",
   "execution_count": null,
   "id": "529fff56-47d3-4d78-8ff5-9530fe290d1d",
   "metadata": {},
   "outputs": [],
   "source": [
    "results[\"tracks\"][\"limit\"]#Limit we have chosen"
   ]
  },
  {
   "cell_type": "code",
   "execution_count": null,
   "id": "92c64c57-3bd2-4d42-bbd1-84a040f1e02a",
   "metadata": {},
   "outputs": [],
   "source": [
    "results[\"tracks\"][\"next\"] #link to the next page (next 50 tracks)"
   ]
  },
  {
   "cell_type": "code",
   "execution_count": 8,
   "id": "09dc6650",
   "metadata": {},
   "outputs": [],
   "source": [
    "results2= sp.search(q='Lady Gaga', limit=50, offset=900)"
   ]
  },
  {
   "cell_type": "code",
   "execution_count": 14,
   "id": "7a9df532",
   "metadata": {},
   "outputs": [
    {
     "data": {
      "text/plain": [
       "'https://api.spotify.com/v1/search?query=Lady+Gaga&type=track&offset=950&limit=50'"
      ]
     },
     "execution_count": 14,
     "metadata": {},
     "output_type": "execute_result"
    }
   ],
   "source": [
    "results2[\"tracks\"][\"next\"]"
   ]
  },
  {
   "cell_type": "code",
   "execution_count": 26,
   "id": "67b6292a",
   "metadata": {},
   "outputs": [],
   "source": [
    "results3 = sp.search('https://api.spotify.com/v1/search?query=Lady+Gaga&type=track&offset=950&limit=50')"
   ]
  },
  {
   "cell_type": "code",
   "execution_count": 22,
   "id": "a30e1722",
   "metadata": {},
   "outputs": [],
   "source": [
    "results2= sp.search(q='Lady Gaga', limit=50, offset=950)"
   ]
  },
  {
   "cell_type": "code",
   "execution_count": 27,
   "id": "bce02a9f",
   "metadata": {},
   "outputs": [
    {
     "data": {
      "text/plain": [
       "50"
      ]
     },
     "execution_count": 27,
     "metadata": {},
     "output_type": "execute_result"
    }
   ],
   "source": [
    "len(results2[\"tracks\"][\"items\"])"
   ]
  },
  {
   "cell_type": "code",
   "execution_count": 109,
   "id": "6ba07b60",
   "metadata": {},
   "outputs": [],
   "source": [
    "a=results2[\"tracks\"][\"next\"] # results2[\"tracks\"]"
   ]
  },
  {
   "cell_type": "code",
   "execution_count": null,
   "id": "f5ccdf79-5d9e-40de-adb9-2cc1e5b7c74a",
   "metadata": {
    "tags": []
   },
   "outputs": [],
   "source": [
    "results[\"tracks\"][\"offset\"] # Actual offset (starting point)"
   ]
  },
  {
   "cell_type": "code",
   "execution_count": 44,
   "id": "356730c1-60a2-4ea8-bd2c-e0522bab8a4d",
   "metadata": {},
   "outputs": [],
   "source": [
    "results[\"tracks\"][\"previous\"] #Previous search"
   ]
  },
  {
   "cell_type": "code",
   "execution_count": null,
   "id": "7c44c8fd-63ea-45ba-94bd-5c5e8e1458b3",
   "metadata": {},
   "outputs": [],
   "source": [
    "results[\"tracks\"][\"total\"] # Number of matches"
   ]
  },
  {
   "cell_type": "markdown",
   "id": "7a127c64-3274-4ecc-aa0f-83ae34af4655",
   "metadata": {},
   "source": [
    "## Exploring the tracks"
   ]
  },
  {
   "cell_type": "code",
   "execution_count": null,
   "id": "6c3541a2-0fd2-41e0-9b27-60a7dc36c4cb",
   "metadata": {
    "scrolled": true,
    "tags": []
   },
   "outputs": [],
   "source": [
    "results[\"tracks\"][\"items\"][0] # Explore the first song"
   ]
  },
  {
   "cell_type": "code",
   "execution_count": null,
   "id": "f2c35eb2-3ea6-4329-9f29-7c062f466638",
   "metadata": {},
   "outputs": [],
   "source": [
    "results[\"tracks\"][\"items\"][0].keys() # We will focus on album, artists, id, name, popularity, type and uri"
   ]
  },
  {
   "cell_type": "code",
   "execution_count": null,
   "id": "69524ecd",
   "metadata": {},
   "outputs": [],
   "source": [
    "results[\"tracks\"][\"items\"][0][\"popularity\"] # Popularity index"
   ]
  },
  {
   "cell_type": "code",
   "execution_count": null,
   "id": "889ca3c3-b0c8-4037-96fb-6add847f537f",
   "metadata": {},
   "outputs": [],
   "source": [
    "# Track artists\n",
    "results[\"tracks\"][\"items\"][0][\"artists\"] "
   ]
  },
  {
   "cell_type": "code",
   "execution_count": null,
   "id": "a9c6a0b2-cea7-48ff-8c51-179d15388aa2",
   "metadata": {},
   "outputs": [],
   "source": [
    "# Track artists names\n",
    "for artist in results[\"tracks\"][\"items\"][0][\"artists\"]:\n",
    "    print(artist[\"name\"])"
   ]
  },
  {
   "cell_type": "code",
   "execution_count": null,
   "id": "6a826e9c-d2e7-4537-a82c-3dc3a2b80b9f",
   "metadata": {},
   "outputs": [],
   "source": [
    "# Track ID\n",
    "results[\"tracks\"][\"items\"][0][\"id\"] "
   ]
  },
  {
   "cell_type": "code",
   "execution_count": 31,
   "id": "a5bd871b-6087-4680-819c-1a1d8ba879bc",
   "metadata": {},
   "outputs": [
    {
     "data": {
      "text/plain": [
       "'Always Remember Us This Way'"
      ]
     },
     "execution_count": 31,
     "metadata": {},
     "output_type": "execute_result"
    }
   ],
   "source": [
    "# Track name\n",
    "results[\"tracks\"][\"items\"][0][\"name\"] "
   ]
  },
  {
   "cell_type": "code",
   "execution_count": null,
   "id": "812661f1-29db-452f-a719-cdfbe95ba9f6",
   "metadata": {},
   "outputs": [],
   "source": [
    "# Popularity index\n",
    "results[\"tracks\"][\"items\"][0][\"popularity\"] "
   ]
  },
  {
   "cell_type": "markdown",
   "id": "0e81c762-e6c5-424e-a4eb-12ab45dffb9f",
   "metadata": {},
   "source": [
    "Spotify songs are identified by either a \"url\", a \"uri\", or an \"id\". \n",
    "\n",
    "- The `id` is an alphanumeric code, and it's the nuclear part of the identifier.\n",
    "\n",
    "- The `uri` contains \"spotify:track\" before the id. An uri is useful because it can be searched manually in the Spotify app.\n",
    "\n",
    "- The `url` is a link to the song on the Spotify web player.\n"
   ]
  },
  {
   "cell_type": "code",
   "execution_count": 21,
   "id": "8bcdccfc-dde9-4f4b-8af5-3caa335b89b5",
   "metadata": {},
   "outputs": [
    {
     "data": {
      "text/plain": [
       "'spotify:track:2rbDhOo9Fh61Bbu23T2qCk'"
      ]
     },
     "execution_count": 21,
     "metadata": {},
     "output_type": "execute_result"
    }
   ],
   "source": [
    "results[\"tracks\"][\"items\"][0][\"uri\"]"
   ]
  },
  {
   "cell_type": "markdown",
   "id": "71c3c9c1-4ec2-42bf-a243-b21105ae1699",
   "metadata": {},
   "source": [
    "## Exercise 1: Discovering New Music through Your Favorite Artists"
   ]
  },
  {
   "cell_type": "markdown",
   "id": "7c07bdc4",
   "metadata": {},
   "source": [
    "**Objective:** \n",
    "Uncover new music by exploring the top tracks of your favorite artists and their related artists.\n",
    "\n",
    "**Instructions:**\n",
    "\n",
    "1. **List Your Favorite Artists**:\n",
    "    - Make a list of your three favorite artists and store it in a variable named `artists`.\n",
    "    - Example: `artists = [\"Los Fabulosos Cadillacs\", \"Manu Chao\", \"Muchachito Bombo Infierno\"]`.\n",
    "\n",
    "2. **Fetch Top Tracks**:\n",
    "    - Write a function named `get_top_tracks`.\n",
    "    - This function should accept an artist's name and return the name of the first 5 top tracks by that artist.\n",
    "    - Use the function `get_top_tracks` to get the first 5 top tracks for each artist in your `artists` list and store the results in a new list named `top_tracks_list`.\n",
    "\n",
    "3. **Discover Related Artists**:\n",
    "    - Write a function named `find_related_artists`.\n",
    "    - This function should accept an artist's name and return the names of the first 5 artists related to the provided artist.\n",
    "    - Store the results in a list named `related_artists_list`.\n",
    "\n",
    "**Challenge:** \n",
    "Combine the above steps to create a playlist that includes the top tracks of your favorite artists and the top tracks of the artists related to them."
   ]
  },
  {
   "cell_type": "markdown",
   "id": "0c442378-e26f-47c8-b4f1-b4fa07089935",
   "metadata": {},
   "source": [
    "**Hint Section for 3. **Discover Related Artists**:**\n",
    "\n",
    "1. **Getting Artist ID**:\n",
    "    - Remember that every artist on Spotify has a unique identifier: their `id`. To get the related artists, you first need to fetch the ID of the given artist.\n",
    "    - Consider using the `sp.search` method to query the artist's name. The method requires a `q` parameter, which is your query (in this case, the artist's name). It also has a `limit` parameter, which specifies the number of tracks it returns. In this case, 1 track is enough, since we just want the artist ID. \n",
    "    - Each track in the results has an associated 'artists' field. This field is a list containing details about all artists involved in that track.\n",
    "   - For most tracks, especially those by a single artist, this list will contain one artist. From this artist's details, you can extract the 'id' field, which is the unique identifier for that artist on Spotify.\n",
    "\n",
    "\n",
    "3. **Fetching Related Artists**:\n",
    "    - Once you have the artist's ID, you can use another SpotiPy method to fetch related artists. Think about which SpotiPy method allows you to get related artists using an artist's ID. Here is the documentation link: https://spotipy.readthedocs.io/en/2.22.1/. \n",
    "    - This method will return a list of related artists. You'll need to extract the relevant details (artist names) from this list.\n",
    "\n",
    "4. **Iterating for Multiple Artists**:\n",
    "    - Once you have a function that returns related artists names for one artist, you can use a list comprehension to apply this function to a list of artist names.\n",
    "\n",
    "5. **Testing**:\n",
    "    - Always test your function with one artist name first. Once you're confident it works, then apply it to the entire list.\n",
    "\n",
    "Remember, the key is to break the problem down into manageable steps. Use the SpotiPy documentation as a resource to understand available methods and their return structures."
   ]
  },
  {
   "cell_type": "code",
   "execution_count": 32,
   "id": "f34b292c",
   "metadata": {},
   "outputs": [],
   "source": [
    "import pandas as pd"
   ]
  },
  {
   "cell_type": "code",
   "execution_count": 33,
   "id": "69d47d26",
   "metadata": {},
   "outputs": [],
   "source": [
    "\n",
    "#1. **List Your Favorite Artists**:\n",
    "#    - Make a list of your three favorite artists and store it in a variable named `artists`.\n",
    "#    - Example: `artists = [\"Los Fabulosos Cadillacs\", \"Manu Chao\", \"Muchachito Bombo Infierno\"]`.\n",
    "\n",
    "artists = [\"Scriabin\", \"Brad Mehldau\", \"Owen Pallett\"]"
   ]
  },
  {
   "cell_type": "code",
   "execution_count": 54,
   "id": "477f0ac6",
   "metadata": {},
   "outputs": [],
   "source": [
    "#2. **Fetch Top Tracks**:\n",
    "#    - Write a function named `get_top_tracks`.\n",
    "#    - This function should accept an artist's name and return the name of the first 5 top tracks by that artist.\n",
    "#    - Use the function `get_top_tracks` to get the first 5 top tracks for each artist in your `artists` list and store the results in a new list named `top_tracks_list`.\n",
    "\n",
    "def get_top_tracks(artist):\n",
    "    \n",
    "    next_query = \"next\"\n",
    "    i=0\n",
    "\n",
    "    while next_query != None:\n",
    "\n",
    "        results = sp.search(q=artist, limit=50, offset=i)\n",
    "\n",
    "        tracks = results[\"tracks\"][\"items\"]\n",
    "\n",
    "        track_names = []\n",
    "        tracks_popularity = []\n",
    "\n",
    "        for track in tracks:\n",
    "            track_names.append(track[\"name\"])\n",
    "            tracks_popularity.append(track[\"popularity\"])\n",
    "\n",
    "        next_query = results[\"tracks\"][\"next\"]\n",
    "        i+=50\n",
    "    \n",
    "    df = pd.DataFrame({\"artist\": artist, \"track\": track_names, \"popularity\": tracks_popularity}) # create dataframe\n",
    "    \n",
    "    df.sort_values(\"popularity\", ascending=False, inplace=True)\n",
    "\n",
    "    return df.head(5)"
   ]
  },
  {
   "cell_type": "code",
   "execution_count": 60,
   "id": "7c7859e6",
   "metadata": {},
   "outputs": [
    {
     "name": "stdout",
     "output_type": "stream",
     "text": [
      "[['Piano Sonata No. 1 in F Minor, Op. 6 (orch. Rogal-Levitsky): Sonata No. 1, Op. 6: Marche Funebre', '24 Preludes, Op. 11 (arr. V. Rogal-Levitsky): Prelude in A-Flat Major, Op. 11, No. 17', '24 Preludes, Op. 11 (arr. V. Rogal-Levitsky): Prelude in C-Sharp Minor, Op. 11, No. 10', '24 Preludes, Op. 11 (arr. V. Rogal-Levitsky): Prelude in D-Flat Major, Op. 11, No. 15 (orch. Rogal-Levitsky)', 'Scriabin: Piano Sonata Op. 30 No. 4: I. Andante']]\n"
     ]
    }
   ],
   "source": [
    "top_list = []\n",
    "for artist in [artists]:\n",
    "    df = get_top_tracks (artist)\n",
    "    top_list.append(list(df.track))\n",
    "\n",
    "print(top_list)\n",
    "\n"
   ]
  },
  {
   "cell_type": "code",
   "execution_count": null,
   "id": "53075000",
   "metadata": {},
   "outputs": [],
   "source": [
    "#3. **Discover Related Artists**:\n",
    "#    - Write a function named `find_related_artists`.\n",
    "#    - This function should accept an artist's name and return the names of the first 5 artists related to the provided artist.\n",
    "#    - Store the results in a list named `related_artists_list`.\n"
   ]
  },
  {
   "cell_type": "code",
   "execution_count": 97,
   "id": "e790f274",
   "metadata": {},
   "outputs": [],
   "source": [
    "def find_related_artists(artist):\n",
    "    artist_id = sp.search(q=artist, type=\"artist\", limit=1)[\"artists\"][\"items\"][0][\"id\"] # obtain artist id\n",
    "    related = sp.artist_related_artists(artist_id) # obtain related artists\n",
    "    related_artists_list = []\n",
    "\n",
    "    for i in range(5):\n",
    "        related_artists_list.append(related[\"artists\"][i][\"name\"])\n",
    "\n",
    "    return related_artists_list"
   ]
  },
  {
   "cell_type": "code",
   "execution_count": 98,
   "id": "7d61f102",
   "metadata": {},
   "outputs": [
    {
     "data": {
      "text/plain": [
       "['Evgeny Zarafiants',\n",
       " 'Julius Asal',\n",
       " 'Henrique Oswald',\n",
       " 'Royal Northern Sinfonia',\n",
       " 'Virginia Symphony Orchestra']"
      ]
     },
     "execution_count": 98,
     "metadata": {},
     "output_type": "execute_result"
    }
   ],
   "source": [
    "for artist in artists:\n",
    "    print(find_related_artists(artist))"
   ]
  },
  {
   "cell_type": "markdown",
   "id": "94ad5fdc-22e5-4521-8aa1-c6833eb7e949",
   "metadata": {},
   "source": [
    "## Playlists\n",
    "\n",
    "The `sp.featured_playlists()` method in `spotipy` fetches a list of Spotify's featured playlists at a given moment. These are curated playlists that Spotify often highlights on the platform's homepage. The method provides a snapshot of the playlists that are being promoted or featured by Spotify at the time of the request.\n",
    "\n",
    "Once you've fetched the featured playlists, you can extract their IDs (and other details)."
   ]
  },
  {
   "cell_type": "code",
   "execution_count": 99,
   "id": "25fb0cf8-c13a-41b0-b8f8-7e0700fd1e41",
   "metadata": {},
   "outputs": [
    {
     "data": {
      "text/plain": [
       "{'message': 'Popular Playlists',\n",
       " 'playlists': {'href': 'https://api.spotify.com/v1/browse/featured-playlists?offset=0&limit=20',\n",
       "  'items': [{'collaborative': False,\n",
       "    'description': 'Los hits de ahora en la playlist más grande de España. Feat. Myke Towers',\n",
       "    'external_urls': {'spotify': 'https://open.spotify.com/playlist/37i9dQZF1DXaxEKcoCdWHD'},\n",
       "    'href': 'https://api.spotify.com/v1/playlists/37i9dQZF1DXaxEKcoCdWHD',\n",
       "    'id': '37i9dQZF1DXaxEKcoCdWHD',\n",
       "    'images': [{'height': None,\n",
       "      'url': 'https://i.scdn.co/image/ab67706f00000002649e12b0a0ba35522f552226',\n",
       "      'width': None}],\n",
       "    'name': 'Éxitos España',\n",
       "    'owner': {'display_name': 'Spotify',\n",
       "     'external_urls': {'spotify': 'https://open.spotify.com/user/spotify'},\n",
       "     'href': 'https://api.spotify.com/v1/users/spotify',\n",
       "     'id': 'spotify',\n",
       "     'type': 'user',\n",
       "     'uri': 'spotify:user:spotify'},\n",
       "    'primary_color': '#FFFFFF',\n",
       "    'public': True,\n",
       "    'snapshot_id': 'Zt7S1wAAAAAoAApNBptdFEfzLUaK6nLF',\n",
       "    'tracks': {'href': 'https://api.spotify.com/v1/playlists/37i9dQZF1DXaxEKcoCdWHD/tracks',\n",
       "     'total': 50},\n",
       "    'type': 'playlist',\n",
       "    'uri': 'spotify:playlist:37i9dQZF1DXaxEKcoCdWHD'},\n",
       "   {'collaborative': False,\n",
       "    'description': 'Tu banda sonora de este verano. Foto: Karol G',\n",
       "    'external_urls': {'spotify': 'https://open.spotify.com/playlist/37i9dQZF1DX9gKTxAbfFfX'},\n",
       "    'href': 'https://api.spotify.com/v1/playlists/37i9dQZF1DX9gKTxAbfFfX',\n",
       "    'id': '37i9dQZF1DX9gKTxAbfFfX',\n",
       "    'images': [{'height': None,\n",
       "      'url': 'https://i.scdn.co/image/ab67706f000000025d399e2a89de3b33fcbb3bc5',\n",
       "      'width': None}],\n",
       "    'name': 'Verano 2024',\n",
       "    'owner': {'display_name': 'Spotify',\n",
       "     'external_urls': {'spotify': 'https://open.spotify.com/user/spotify'},\n",
       "     'href': 'https://api.spotify.com/v1/users/spotify',\n",
       "     'id': 'spotify',\n",
       "     'type': 'user',\n",
       "     'uri': 'spotify:user:spotify'},\n",
       "    'primary_color': '#ffffff',\n",
       "    'public': True,\n",
       "    'snapshot_id': 'ZtVtggAAAABkdvz1/WSw6mm8z0WstGwA',\n",
       "    'tracks': {'href': 'https://api.spotify.com/v1/playlists/37i9dQZF1DX9gKTxAbfFfX/tracks',\n",
       "     'total': 70},\n",
       "    'type': 'playlist',\n",
       "    'uri': 'spotify:playlist:37i9dQZF1DX9gKTxAbfFfX'},\n",
       "   {'collaborative': False,\n",
       "    'description': \"Today's top Latin hits, elevando nuestra música. Cover: JHAYCO\",\n",
       "    'external_urls': {'spotify': 'https://open.spotify.com/playlist/37i9dQZF1DX10zKzsJ2jva'},\n",
       "    'href': 'https://api.spotify.com/v1/playlists/37i9dQZF1DX10zKzsJ2jva',\n",
       "    'id': '37i9dQZF1DX10zKzsJ2jva',\n",
       "    'images': [{'height': None,\n",
       "      'url': 'https://i.scdn.co/image/ab67706f00000002258971fc419f20387d3c746f',\n",
       "      'width': None}],\n",
       "    'name': 'Viva Latino',\n",
       "    'owner': {'display_name': 'Spotify',\n",
       "     'external_urls': {'spotify': 'https://open.spotify.com/user/spotify'},\n",
       "     'href': 'https://api.spotify.com/v1/users/spotify',\n",
       "     'id': 'spotify',\n",
       "     'type': 'user',\n",
       "     'uri': 'spotify:user:spotify'},\n",
       "    'primary_color': '#FFFFFF',\n",
       "    'public': True,\n",
       "    'snapshot_id': 'ZtsnwwAAAACfZb9mCjri+HcIP3lFu5Ad',\n",
       "    'tracks': {'href': 'https://api.spotify.com/v1/playlists/37i9dQZF1DX10zKzsJ2jva/tracks',\n",
       "     'total': 50},\n",
       "    'type': 'playlist',\n",
       "    'uri': 'spotify:playlist:37i9dQZF1DX10zKzsJ2jva'},\n",
       "   {'collaborative': False,\n",
       "    'description': 'Si está pegao, está aquí. Feat. Myke Towers',\n",
       "    'external_urls': {'spotify': 'https://open.spotify.com/playlist/37i9dQZF1DX1HCSfq0nSal'},\n",
       "    'href': 'https://api.spotify.com/v1/playlists/37i9dQZF1DX1HCSfq0nSal',\n",
       "    'id': '37i9dQZF1DX1HCSfq0nSal',\n",
       "    'images': [{'height': None,\n",
       "      'url': 'https://i.scdn.co/image/ab67706f00000002b4a39ffd06f5be5ba11e11dc',\n",
       "      'width': None}],\n",
       "    'name': 'PEGAO',\n",
       "    'owner': {'display_name': 'Spotify',\n",
       "     'external_urls': {'spotify': 'https://open.spotify.com/user/spotify'},\n",
       "     'href': 'https://api.spotify.com/v1/users/spotify',\n",
       "     'id': 'spotify',\n",
       "     'type': 'user',\n",
       "     'uri': 'spotify:user:spotify'},\n",
       "    'primary_color': '#FFFFFF',\n",
       "    'public': True,\n",
       "    'snapshot_id': 'Zt7CNAAAAABi59mL29xeA/al0WklMa4G',\n",
       "    'tracks': {'href': 'https://api.spotify.com/v1/playlists/37i9dQZF1DX1HCSfq0nSal/tracks',\n",
       "     'total': 40},\n",
       "    'type': 'playlist',\n",
       "    'uri': 'spotify:playlist:37i9dQZF1DX1HCSfq0nSal'},\n",
       "   {'collaborative': False,\n",
       "    'description': 'así suena internet, con Luck Ra, BM',\n",
       "    'external_urls': {'spotify': 'https://open.spotify.com/playlist/37i9dQZF1DWVJv1UsWItkB'},\n",
       "    'href': 'https://api.spotify.com/v1/playlists/37i9dQZF1DWVJv1UsWItkB',\n",
       "    'id': '37i9dQZF1DWVJv1UsWItkB',\n",
       "    'images': [{'height': None,\n",
       "      'url': 'https://i.scdn.co/image/ab67706f0000000279561f98f20dad0fa22f8aee',\n",
       "      'width': None}],\n",
       "    'name': 'Viral España 2024',\n",
       "    'owner': {'display_name': 'Spotify',\n",
       "     'external_urls': {'spotify': 'https://open.spotify.com/user/spotify'},\n",
       "     'href': 'https://api.spotify.com/v1/users/spotify',\n",
       "     'id': 'spotify',\n",
       "     'type': 'user',\n",
       "     'uri': 'spotify:user:spotify'},\n",
       "    'primary_color': '#ffffff',\n",
       "    'public': True,\n",
       "    'snapshot_id': 'ZtXm8wAAAAASha4DSfwJxFnpYVjgK7Zq',\n",
       "    'tracks': {'href': 'https://api.spotify.com/v1/playlists/37i9dQZF1DWVJv1UsWItkB/tracks',\n",
       "     'total': 80},\n",
       "    'type': 'playlist',\n",
       "    'uri': 'spotify:playlist:37i9dQZF1DWVJv1UsWItkB'},\n",
       "   {'collaborative': False,\n",
       "    'description': 'Lo mejor de la primera década del milenio.',\n",
       "    'external_urls': {'spotify': 'https://open.spotify.com/playlist/37i9dQZF1DXb0AsvHMF4aM'},\n",
       "    'href': 'https://api.spotify.com/v1/playlists/37i9dQZF1DXb0AsvHMF4aM',\n",
       "    'id': '37i9dQZF1DXb0AsvHMF4aM',\n",
       "    'images': [{'height': None,\n",
       "      'url': 'https://i.scdn.co/image/ab67706f000000029b73cb54758543d78a8ae4e0',\n",
       "      'width': None}],\n",
       "    'name': 'Los 2000 España',\n",
       "    'owner': {'display_name': 'Spotify',\n",
       "     'external_urls': {'spotify': 'https://open.spotify.com/user/spotify'},\n",
       "     'href': 'https://api.spotify.com/v1/users/spotify',\n",
       "     'id': 'spotify',\n",
       "     'type': 'user',\n",
       "     'uri': 'spotify:user:spotify'},\n",
       "    'primary_color': '#ffffff',\n",
       "    'public': True,\n",
       "    'snapshot_id': 'Zs2kZQAAAABe1IPF4ST6DedQ9yGQVSwP',\n",
       "    'tracks': {'href': 'https://api.spotify.com/v1/playlists/37i9dQZF1DXb0AsvHMF4aM/tracks',\n",
       "     'total': 75},\n",
       "    'type': 'playlist',\n",
       "    'uri': 'spotify:playlist:37i9dQZF1DXb0AsvHMF4aM'},\n",
       "   {'collaborative': False,\n",
       "    'description': 'Lo mejor del pop en español. Foto: Ana Mena, Emilia',\n",
       "    'external_urls': {'spotify': 'https://open.spotify.com/playlist/37i9dQZF1DX3sCT1ItXgNd'},\n",
       "    'href': 'https://api.spotify.com/v1/playlists/37i9dQZF1DX3sCT1ItXgNd',\n",
       "    'id': '37i9dQZF1DX3sCT1ItXgNd',\n",
       "    'images': [{'height': None,\n",
       "      'url': 'https://i.scdn.co/image/ab67706f000000027485c5c372cda797f8b9f03d',\n",
       "      'width': None}],\n",
       "    'name': 'Pop con Ñ',\n",
       "    'owner': {'display_name': 'Spotify',\n",
       "     'external_urls': {'spotify': 'https://open.spotify.com/user/spotify'},\n",
       "     'href': 'https://api.spotify.com/v1/users/spotify',\n",
       "     'id': 'spotify',\n",
       "     'type': 'user',\n",
       "     'uri': 'spotify:user:spotify'},\n",
       "    'primary_color': '#ffffff',\n",
       "    'public': True,\n",
       "    'snapshot_id': 'Zt6vdAAAAAA0qDLD4jFEXU/dLJfJu/oj',\n",
       "    'tracks': {'href': 'https://api.spotify.com/v1/playlists/37i9dQZF1DX3sCT1ItXgNd/tracks',\n",
       "     'total': 50},\n",
       "    'type': 'playlist',\n",
       "    'uri': 'spotify:playlist:37i9dQZF1DX3sCT1ItXgNd'},\n",
       "   {'collaborative': False,\n",
       "    'description': 'El lugar donde la música es más nuestra. Foto: Israel Amador.',\n",
       "    'external_urls': {'spotify': 'https://open.spotify.com/playlist/37i9dQZF1DWV7FWPDK0Dg1'},\n",
       "    'href': 'https://api.spotify.com/v1/playlists/37i9dQZF1DWV7FWPDK0Dg1',\n",
       "    'id': '37i9dQZF1DWV7FWPDK0Dg1',\n",
       "    'images': [{'height': None,\n",
       "      'url': 'https://i.scdn.co/image/ab67706f0000000236c97bf41962e237e926ce52',\n",
       "      'width': None}],\n",
       "    'name': 'Flamenco Pop',\n",
       "    'owner': {'display_name': 'Spotify',\n",
       "     'external_urls': {'spotify': 'https://open.spotify.com/user/spotify'},\n",
       "     'href': 'https://api.spotify.com/v1/users/spotify',\n",
       "     'id': 'spotify',\n",
       "     'type': 'user',\n",
       "     'uri': 'spotify:user:spotify'},\n",
       "    'primary_color': '#ffffff',\n",
       "    'public': True,\n",
       "    'snapshot_id': 'Ztop4AAAAACgJ1PYnjjXWBIPNAytEk2+',\n",
       "    'tracks': {'href': 'https://api.spotify.com/v1/playlists/37i9dQZF1DWV7FWPDK0Dg1/tracks',\n",
       "     'total': 75},\n",
       "    'type': 'playlist',\n",
       "    'uri': 'spotify:playlist:37i9dQZF1DWV7FWPDK0Dg1'},\n",
       "   {'collaborative': False,\n",
       "    'description': 'La casa del flamenco urbano, de los quejíos y del autotune. Petándolo: Fabbio, Omar Montes, Samueliyo Baby, Nickzzy, Oscar el Ruso y Samuel G.',\n",
       "    'external_urls': {'spotify': 'https://open.spotify.com/playlist/37i9dQZF1DWZMtkg0cMXbp'},\n",
       "    'href': 'https://api.spotify.com/v1/playlists/37i9dQZF1DWZMtkg0cMXbp',\n",
       "    'id': '37i9dQZF1DWZMtkg0cMXbp',\n",
       "    'images': [{'height': None,\n",
       "      'url': 'https://i.scdn.co/image/ab67706f00000002b5b2edafbeee5f6106b9f148',\n",
       "      'width': None}],\n",
       "    'name': 'Flamenco + Flow',\n",
       "    'owner': {'display_name': 'Spotify',\n",
       "     'external_urls': {'spotify': 'https://open.spotify.com/user/spotify'},\n",
       "     'href': 'https://api.spotify.com/v1/users/spotify',\n",
       "     'id': 'spotify',\n",
       "     'type': 'user',\n",
       "     'uri': 'spotify:user:spotify'},\n",
       "    'primary_color': '#ffffff',\n",
       "    'public': True,\n",
       "    'snapshot_id': 'Ztop4AAAAACK03T6VBYIrGy9VrzYS9lp',\n",
       "    'tracks': {'href': 'https://api.spotify.com/v1/playlists/37i9dQZF1DWZMtkg0cMXbp/tracks',\n",
       "     'total': 75},\n",
       "    'type': 'playlist',\n",
       "    'uri': 'spotify:playlist:37i9dQZF1DWZMtkg0cMXbp'},\n",
       "   {'collaborative': False,\n",
       "    'description': 'JHAYCO y el resto de novedades más importantes de la semana.',\n",
       "    'external_urls': {'spotify': 'https://open.spotify.com/playlist/37i9dQZF1DX6PYajiT4pAf'},\n",
       "    'href': 'https://api.spotify.com/v1/playlists/37i9dQZF1DX6PYajiT4pAf',\n",
       "    'id': '37i9dQZF1DX6PYajiT4pAf',\n",
       "    'images': [{'height': None,\n",
       "      'url': 'https://i.scdn.co/image/ab67706f000000020b208efe360cfd1f33b018bb',\n",
       "      'width': None}],\n",
       "    'name': 'Novedades Viernes España',\n",
       "    'owner': {'display_name': 'Spotify',\n",
       "     'external_urls': {'spotify': 'https://open.spotify.com/user/spotify'},\n",
       "     'href': 'https://api.spotify.com/v1/users/spotify',\n",
       "     'id': 'spotify',\n",
       "     'type': 'user',\n",
       "     'uri': 'spotify:user:spotify'},\n",
       "    'primary_color': '#A0C3D2',\n",
       "    'public': True,\n",
       "    'snapshot_id': 'Ztp+QAAAAABSlX7FCMCF89fELMvlXvBw',\n",
       "    'tracks': {'href': 'https://api.spotify.com/v1/playlists/37i9dQZF1DX6PYajiT4pAf/tracks',\n",
       "     'total': 60},\n",
       "    'type': 'playlist',\n",
       "    'uri': 'spotify:playlist:37i9dQZF1DX6PYajiT4pAf'},\n",
       "   {'collaborative': False,\n",
       "    'description': 'Puro malianteo. Feat. Beny Jr',\n",
       "    'external_urls': {'spotify': 'https://open.spotify.com/playlist/37i9dQZF1DWXCGnD7W6WDX'},\n",
       "    'href': 'https://api.spotify.com/v1/playlists/37i9dQZF1DWXCGnD7W6WDX',\n",
       "    'id': '37i9dQZF1DWXCGnD7W6WDX',\n",
       "    'images': [{'height': None,\n",
       "      'url': 'https://i.scdn.co/image/ab67706f00000002213c130499d423b6e0665991',\n",
       "      'width': None}],\n",
       "    'name': 'BARRAS',\n",
       "    'owner': {'display_name': 'Spotify',\n",
       "     'external_urls': {'spotify': 'https://open.spotify.com/user/spotify'},\n",
       "     'href': 'https://api.spotify.com/v1/users/spotify',\n",
       "     'id': 'spotify',\n",
       "     'type': 'user',\n",
       "     'uri': 'spotify:user:spotify'},\n",
       "    'primary_color': '#FFFFFF',\n",
       "    'public': True,\n",
       "    'snapshot_id': 'ZtWBQgAAAADsjxrSxpNokoFkqh0m3zvg',\n",
       "    'tracks': {'href': 'https://api.spotify.com/v1/playlists/37i9dQZF1DWXCGnD7W6WDX/tracks',\n",
       "     'total': 40},\n",
       "    'type': 'playlist',\n",
       "    'uri': 'spotify:playlist:37i9dQZF1DWXCGnD7W6WDX'},\n",
       "   {'collaborative': False,\n",
       "    'description': 'De la CALLE a la CIMA con JHAYCO.',\n",
       "    'external_urls': {'spotify': 'https://open.spotify.com/playlist/37i9dQZF1DWZjqjZMudx9T'},\n",
       "    'href': 'https://api.spotify.com/v1/playlists/37i9dQZF1DWZjqjZMudx9T',\n",
       "    'id': '37i9dQZF1DWZjqjZMudx9T',\n",
       "    'images': [{'height': None,\n",
       "      'url': 'https://i.scdn.co/image/ab67706f0000000287eb5cb66adf7decccc87ae3',\n",
       "      'width': None}],\n",
       "    'name': 'MANSIÓN REGGAETÓN',\n",
       "    'owner': {'display_name': 'Spotify',\n",
       "     'external_urls': {'spotify': 'https://open.spotify.com/user/spotify'},\n",
       "     'href': 'https://api.spotify.com/v1/users/spotify',\n",
       "     'id': 'spotify',\n",
       "     'type': 'user',\n",
       "     'uri': 'spotify:user:spotify'},\n",
       "    'primary_color': '#FFFFFF',\n",
       "    'public': True,\n",
       "    'snapshot_id': 'Ztp+fAAAAABiMIKZQvo6hdYi0XobWv8R',\n",
       "    'tracks': {'href': 'https://api.spotify.com/v1/playlists/37i9dQZF1DWZjqjZMudx9T/tracks',\n",
       "     'total': 50},\n",
       "    'type': 'playlist',\n",
       "    'uri': 'spotify:playlist:37i9dQZF1DWZjqjZMudx9T'},\n",
       "   {'collaborative': False,\n",
       "    'description': 'Canciones para disfrutar del viaje.',\n",
       "    'external_urls': {'spotify': 'https://open.spotify.com/playlist/37i9dQZF1DWUbj5dNZ89An'},\n",
       "    'href': 'https://api.spotify.com/v1/playlists/37i9dQZF1DWUbj5dNZ89An',\n",
       "    'id': '37i9dQZF1DWUbj5dNZ89An',\n",
       "    'images': [{'height': None,\n",
       "      'url': 'https://i.scdn.co/image/ab67706f0000000206a77b3763f413baed261b23',\n",
       "      'width': None}],\n",
       "    'name': 'Canta en el coche',\n",
       "    'owner': {'display_name': 'Spotify',\n",
       "     'external_urls': {'spotify': 'https://open.spotify.com/user/spotify'},\n",
       "     'href': 'https://api.spotify.com/v1/users/spotify',\n",
       "     'id': 'spotify',\n",
       "     'type': 'user',\n",
       "     'uri': 'spotify:user:spotify'},\n",
       "    'primary_color': '#ffffff',\n",
       "    'public': True,\n",
       "    'snapshot_id': 'ZtAjtQAAAABpg+kzno0f3M+eFL2O2fee',\n",
       "    'tracks': {'href': 'https://api.spotify.com/v1/playlists/37i9dQZF1DWUbj5dNZ89An/tracks',\n",
       "     'total': 130},\n",
       "    'type': 'playlist',\n",
       "    'uri': 'spotify:playlist:37i9dQZF1DWUbj5dNZ89An'},\n",
       "   {'collaborative': False,\n",
       "    'description': 'feat. JC Reyes, Omar Montes',\n",
       "    'external_urls': {'spotify': 'https://open.spotify.com/playlist/37i9dQZF1DX8jrCoV9Ccve'},\n",
       "    'href': 'https://api.spotify.com/v1/playlists/37i9dQZF1DX8jrCoV9Ccve',\n",
       "    'id': '37i9dQZF1DX8jrCoV9Ccve',\n",
       "    'images': [{'height': None,\n",
       "      'url': 'https://i.scdn.co/image/ab67706f000000023c86122160faec4f5b6671e1',\n",
       "      'width': None}],\n",
       "    'name': 'temardos',\n",
       "    'owner': {'display_name': 'Spotify',\n",
       "     'external_urls': {'spotify': 'https://open.spotify.com/user/spotify'},\n",
       "     'href': 'https://api.spotify.com/v1/users/spotify',\n",
       "     'id': 'spotify',\n",
       "     'type': 'user',\n",
       "     'uri': 'spotify:user:spotify'},\n",
       "    'primary_color': '#ffffff',\n",
       "    'public': True,\n",
       "    'snapshot_id': 'Zs3uowAAAACtYOK8EsHUqNEiCzEwmFBJ',\n",
       "    'tracks': {'href': 'https://api.spotify.com/v1/playlists/37i9dQZF1DX8jrCoV9Ccve/tracks',\n",
       "     'total': 150},\n",
       "    'type': 'playlist',\n",
       "    'uri': 'spotify:playlist:37i9dQZF1DX8jrCoV9Ccve'},\n",
       "   {'collaborative': False,\n",
       "    'description': 'This is KAROL G. The essential tracks, all in one playlist.',\n",
       "    'external_urls': {'spotify': 'https://open.spotify.com/playlist/37i9dQZF1DZ06evO4e5iLu'},\n",
       "    'href': 'https://api.spotify.com/v1/playlists/37i9dQZF1DZ06evO4e5iLu',\n",
       "    'id': '37i9dQZF1DZ06evO4e5iLu',\n",
       "    'images': [{'height': None,\n",
       "      'url': 'https://thisis-images.spotifycdn.com/37i9dQZF1DZ06evO4e5iLu-default.jpg',\n",
       "      'width': None}],\n",
       "    'name': 'This Is KAROL G',\n",
       "    'owner': {'display_name': 'Spotify',\n",
       "     'external_urls': {'spotify': 'https://open.spotify.com/user/spotify'},\n",
       "     'href': 'https://api.spotify.com/v1/users/spotify',\n",
       "     'id': 'spotify',\n",
       "     'type': 'user',\n",
       "     'uri': 'spotify:user:spotify'},\n",
       "    'primary_color': None,\n",
       "    'public': True,\n",
       "    'snapshot_id': 'ZtzpAAAAAADDTmG9ScKRfwwj1m6iGSZh',\n",
       "    'tracks': {'href': 'https://api.spotify.com/v1/playlists/37i9dQZF1DZ06evO4e5iLu/tracks',\n",
       "     'total': 47},\n",
       "    'type': 'playlist',\n",
       "    'uri': 'spotify:playlist:37i9dQZF1DZ06evO4e5iLu'},\n",
       "   {'collaborative': False,\n",
       "    'description': 'Relájate y deja que la música te acompañe.',\n",
       "    'external_urls': {'spotify': 'https://open.spotify.com/playlist/37i9dQZF1DWV1PBrIG2weG'},\n",
       "    'href': 'https://api.spotify.com/v1/playlists/37i9dQZF1DWV1PBrIG2weG',\n",
       "    'id': '37i9dQZF1DWV1PBrIG2weG',\n",
       "    'images': [{'height': None,\n",
       "      'url': 'https://i.scdn.co/image/ab67706f000000026b13acac582801fa187a39d5',\n",
       "      'width': None}],\n",
       "    'name': 'Chill 2024',\n",
       "    'owner': {'display_name': 'Spotify',\n",
       "     'external_urls': {'spotify': 'https://open.spotify.com/user/spotify'},\n",
       "     'href': 'https://api.spotify.com/v1/users/spotify',\n",
       "     'id': 'spotify',\n",
       "     'type': 'user',\n",
       "     'uri': 'spotify:user:spotify'},\n",
       "    'primary_color': '#ffffff',\n",
       "    'public': True,\n",
       "    'snapshot_id': 'Zs2n4gAAAADIp0cVzLbER6u+h8BA12FU',\n",
       "    'tracks': {'href': 'https://api.spotify.com/v1/playlists/37i9dQZF1DWV1PBrIG2weG/tracks',\n",
       "     'total': 100},\n",
       "    'type': 'playlist',\n",
       "    'uri': 'spotify:playlist:37i9dQZF1DWV1PBrIG2weG'},\n",
       "   {'collaborative': False,\n",
       "    'description': 'The hottest 50. Cover: Billie Eilish',\n",
       "    'external_urls': {'spotify': 'https://open.spotify.com/playlist/37i9dQZF1DXcBWIGoYBM5M'},\n",
       "    'href': 'https://api.spotify.com/v1/playlists/37i9dQZF1DXcBWIGoYBM5M',\n",
       "    'id': '37i9dQZF1DXcBWIGoYBM5M',\n",
       "    'images': [{'height': None,\n",
       "      'url': 'https://i.scdn.co/image/ab67706f00000002df2ac012e53ecdf46487d013',\n",
       "      'width': None}],\n",
       "    'name': 'Today’s Top Hits',\n",
       "    'owner': {'display_name': 'Spotify',\n",
       "     'external_urls': {'spotify': 'https://open.spotify.com/user/spotify'},\n",
       "     'href': 'https://api.spotify.com/v1/users/spotify',\n",
       "     'id': 'spotify',\n",
       "     'type': 'user',\n",
       "     'uri': 'spotify:user:spotify'},\n",
       "    'primary_color': '#FFFFFF',\n",
       "    'public': True,\n",
       "    'snapshot_id': 'Ztp+QwAAAADH1sgUul6/ucSF3B8jt6pw',\n",
       "    'tracks': {'href': 'https://api.spotify.com/v1/playlists/37i9dQZF1DXcBWIGoYBM5M/tracks',\n",
       "     'total': 50},\n",
       "    'type': 'playlist',\n",
       "    'uri': 'spotify:playlist:37i9dQZF1DXcBWIGoYBM5M'},\n",
       "   {'collaborative': False,\n",
       "    'description': 'Los éxitos del Dembow. Portada: Lomiiel',\n",
       "    'external_urls': {'spotify': 'https://open.spotify.com/playlist/37i9dQZF1DWWWpEY2WZLnS'},\n",
       "    'href': 'https://api.spotify.com/v1/playlists/37i9dQZF1DWWWpEY2WZLnS',\n",
       "    'id': '37i9dQZF1DWWWpEY2WZLnS',\n",
       "    'images': [{'height': None,\n",
       "      'url': 'https://i.scdn.co/image/ab67706f00000002a91c5831e4a0d2fe09e9fe27',\n",
       "      'width': None}],\n",
       "    'name': 'Dembow Pegao',\n",
       "    'owner': {'display_name': 'Spotify',\n",
       "     'external_urls': {'spotify': 'https://open.spotify.com/user/spotify'},\n",
       "     'href': 'https://api.spotify.com/v1/users/spotify',\n",
       "     'id': 'spotify',\n",
       "     'type': 'user',\n",
       "     'uri': 'spotify:user:spotify'},\n",
       "    'primary_color': '#ffffff',\n",
       "    'public': True,\n",
       "    'snapshot_id': 'ZtnBAAAAAAAXZJOD3KNws3ygOYTwWMfs',\n",
       "    'tracks': {'href': 'https://api.spotify.com/v1/playlists/37i9dQZF1DWWWpEY2WZLnS/tracks',\n",
       "     'total': 50},\n",
       "    'type': 'playlist',\n",
       "    'uri': 'spotify:playlist:37i9dQZF1DWWWpEY2WZLnS'},\n",
       "   {'collaborative': False,\n",
       "    'description': 'Las grandes canciones indies de los últimos tiempos. Foto: Love of Lesbian.',\n",
       "    'external_urls': {'spotify': 'https://open.spotify.com/playlist/37i9dQZF1DX2rVwh3lcWku'},\n",
       "    'href': 'https://api.spotify.com/v1/playlists/37i9dQZF1DX2rVwh3lcWku',\n",
       "    'id': '37i9dQZF1DX2rVwh3lcWku',\n",
       "    'images': [{'height': None,\n",
       "      'url': 'https://i.scdn.co/image/ab67706f000000028e42b2794b8a7708d681d2fe',\n",
       "      'width': None}],\n",
       "    'name': 'Todo Indie',\n",
       "    'owner': {'display_name': 'Spotify',\n",
       "     'external_urls': {'spotify': 'https://open.spotify.com/user/spotify'},\n",
       "     'href': 'https://api.spotify.com/v1/users/spotify',\n",
       "     'id': 'spotify',\n",
       "     'type': 'user',\n",
       "     'uri': 'spotify:user:spotify'},\n",
       "    'primary_color': '#ffffff',\n",
       "    'public': True,\n",
       "    'snapshot_id': 'Ztop4AAAAABh9JjArRYoHxq0AjvgSIUq',\n",
       "    'tracks': {'href': 'https://api.spotify.com/v1/playlists/37i9dQZF1DX2rVwh3lcWku/tracks',\n",
       "     'total': 100},\n",
       "    'type': 'playlist',\n",
       "    'uri': 'spotify:playlist:37i9dQZF1DX2rVwh3lcWku'},\n",
       "   {'collaborative': False,\n",
       "    'description': 'Los temas que se convertirán en himnos.',\n",
       "    'external_urls': {'spotify': 'https://open.spotify.com/playlist/37i9dQZF1DX2EiUAL7Wdfc'},\n",
       "    'href': 'https://api.spotify.com/v1/playlists/37i9dQZF1DX2EiUAL7Wdfc',\n",
       "    'id': '37i9dQZF1DX2EiUAL7Wdfc',\n",
       "    'images': [{'height': None,\n",
       "      'url': 'https://i.scdn.co/image/ab67706f000000022072b736ac89da8c376e3fe6',\n",
       "      'width': None}],\n",
       "    'name': 'míticas',\n",
       "    'owner': {'display_name': 'Spotify',\n",
       "     'external_urls': {'spotify': 'https://open.spotify.com/user/spotify'},\n",
       "     'href': 'https://api.spotify.com/v1/users/spotify',\n",
       "     'id': 'spotify',\n",
       "     'type': 'user',\n",
       "     'uri': 'spotify:user:spotify'},\n",
       "    'primary_color': '#ffffff',\n",
       "    'public': True,\n",
       "    'snapshot_id': 'ZrDsUwAAAABcm/RgxBoeREeBZzEAlhqs',\n",
       "    'tracks': {'href': 'https://api.spotify.com/v1/playlists/37i9dQZF1DX2EiUAL7Wdfc/tracks',\n",
       "     'total': 100},\n",
       "    'type': 'playlist',\n",
       "    'uri': 'spotify:playlist:37i9dQZF1DX2EiUAL7Wdfc'}],\n",
       "  'limit': 20,\n",
       "  'next': 'https://api.spotify.com/v1/browse/featured-playlists?offset=20&limit=20',\n",
       "  'offset': 0,\n",
       "  'previous': None,\n",
       "  'total': 100}}"
      ]
     },
     "execution_count": 99,
     "metadata": {},
     "output_type": "execute_result"
    }
   ],
   "source": [
    "sp.featured_playlists() # We get a playlist id of a playlist we like"
   ]
  },
  {
   "cell_type": "code",
   "execution_count": 100,
   "id": "8692970a",
   "metadata": {},
   "outputs": [],
   "source": [
    "test = sp.featured_playlists()"
   ]
  },
  {
   "cell_type": "code",
   "execution_count": 120,
   "id": "c9d9800e",
   "metadata": {},
   "outputs": [
    {
     "data": {
      "text/plain": [
       "'playlist'"
      ]
     },
     "execution_count": 120,
     "metadata": {},
     "output_type": "execute_result"
    }
   ],
   "source": [
    "test[\"playlists\"][\"items\"][0][\"type\"]"
   ]
  },
  {
   "cell_type": "markdown",
   "id": "90f558f3-c638-4df4-b5a4-e24f7847d52a",
   "metadata": {},
   "source": [
    "### Getting a Playlist's Details\n",
    "To fetch details about a specific playlist, you can use the playlist method. You'll need the playlist's Spotify ID."
   ]
  },
  {
   "cell_type": "markdown",
   "id": "0eef529f-617f-4ea3-8156-07472ac8e6d5",
   "metadata": {},
   "source": [
    "In this example, we will use the following playlist id: *37i9dQZF1DXd9zR7tdziuQ*"
   ]
  },
  {
   "cell_type": "code",
   "execution_count": 107,
   "id": "46d35121-9256-4cf4-81f5-118b87f7af32",
   "metadata": {},
   "outputs": [],
   "source": [
    "playlist_id = \"37i9dQZF1DXd9zR7tdziuQ\"\n",
    "playlist = sp.playlist(playlist_id)"
   ]
  },
  {
   "cell_type": "code",
   "execution_count": 108,
   "id": "5260f67f-6024-4fee-8449-30904f03bf76",
   "metadata": {},
   "outputs": [
    {
     "name": "stdout",
     "output_type": "stream",
     "text": [
      "Hits acústicos\n",
      "Relájate con tus canciones favoritas en versión acústica / Descontrai com versões acústicas das tuas músicas preferidas.\n"
     ]
    }
   ],
   "source": [
    "print(playlist['name'])  # Print the playlist's name\n",
    "print(playlist['description'])  # Print the playlist's description"
   ]
  },
  {
   "cell_type": "markdown",
   "id": "13bc8631-69f0-4b98-9cc9-5baecbaea9ba",
   "metadata": {},
   "source": [
    "### Getting Tracks from a Playlist\n",
    "If you want to get the tracks from a specific playlist, you can use the playlist_tracks method."
   ]
  },
  {
   "cell_type": "code",
   "execution_count": 109,
   "id": "69c78f8d-7e6a-4d15-bcbb-fc93edb82433",
   "metadata": {},
   "outputs": [
    {
     "name": "stdout",
     "output_type": "stream",
     "text": [
      "Take Me Home, Country Roads\n",
      "La Vie En Rose\n",
      "Sunday Morning - Acoustic\n",
      "You Are My Sunshine\n",
      "Too Good At Goodbyes - Acoustic\n",
      "True Colours\n",
      "Cold Heart - Acoustic\n",
      "Collide - Acoustic Version\n",
      "September Song - Guitar Acoustic\n",
      "I'm Not the Only One - Live from Spotify, London\n",
      "Baby One More Time - Recorded at Spotify Studios New York City\n",
      "If You Ever Wanna Be In Love - James Bay Spotify Session 2015\n",
      "Rockabye - Acoustic Version\n",
      "When You Love Someone - Acoustic\n",
      "Blinding Lights\n",
      "Ain't Nobody (Loves Me Better) - Acoustic\n",
      "Perfect - Acoustic\n",
      "What About Us - Acoustic\n",
      "Little Talks\n",
      "Wild Love - Acoustic\n",
      "Something Just Like This - Acoustic\n",
      "Linger\n",
      "Heaven Is a Place on Earth\n",
      "1973 - Acoustic\n",
      "Billie Jean\n",
      "Shape of You - Acoustic\n",
      "Let It Go - James Bay Spotify Session 2015\n",
      "Firestone - Live Acoustic Version\n",
      "Naked - Acoustic Version\n",
      "Fix You - Live\n",
      "Crazy in Love\n",
      "Slow Dancing in a Burning Room - Acoustic\n",
      "Can't Help Falling in Love\n",
      "Summertime Sadness (Acoustic Cover) feat. Keelan Donovan\n",
      "Chasing Cars\n",
      "Halo\n",
      "Dancing On My Own - Acoustic\n",
      "Price Tag - Acoustic Version\n",
      "We Can't Stop - Acoustic\n",
      "City of Stars\n",
      "All of Me - Live from Spotify Milan\n",
      "Mad World - Recorded at Metropolis Studios, London\n",
      "Kiss Me - AOL Sessions Acoustic Version\n",
      "Another Love - Live from Spotify (SXSW)\n",
      "Hey Ya - solo version\n",
      "Have You Ever Seen The Rain - Recorded at Electric Lady Studios NYC\n",
      "Girls Just Wanna Have Fun - Acoustic\n",
      "New Rules - Acoustic\n",
      "Ordinary World\n",
      "Landslide\n",
      "Too Much To Ask - Acoustic\n",
      "Bizarre Love Triangle - 2014 Remaster\n",
      "I Kissed a Girl\n",
      "Bad Day - Acoustic\n",
      "Wild World - Acoustic Version\n",
      "Chandelier - Live from The Village\n",
      "IDGAF - Acoustic\n",
      "U Remind Me - Recorded at Spotify Studios NYC\n",
      "It Aint me - Acoustic\n",
      "Don't Wanna Know - Acoustic Version\n",
      "Pretty Girl - Acoustic Version\n",
      "Rhythm Inside - Acoustic\n",
      "When Doves Cry - Recorded At Spotify Studios NYC\n",
      "Unchained Melody\n",
      "Sex On Fire\n",
      "I Wanna Dance with Somebody\n",
      "2U - Acoustic Version\n",
      "I'm the One - Acoustic\n",
      "Cold Water\n",
      "Over the Rainbow\n",
      "Your Song - Acoustic\n",
      "Creep\n",
      "Umbrella - Acoustic Version\n",
      "Stitches\n",
      "Brandy (You're a Fine Girl)\n",
      "Silence\n",
      "Shallow\n",
      "She's On My Mind - Guitar Acoustic\n",
      "How to Save a Life - Live in Nashville, TN - December 2006\n",
      "Crazy - Live Sessions\n",
      "Dancing in the Moonlight - Acoustic Version\n",
      "Sugar - Acoustic\n",
      "Stay\n",
      "Starboy - Acoustic\n",
      "Scars To Your Beautiful\n",
      "Once In a While - Acoustic\n",
      "Nervous - Acoustic\n",
      "Send My Love (To Your New Lover) - Live\n",
      "Closer\n",
      "Lot To Learn\n",
      "Maps\n",
      "Shut up and Dance\n",
      "Please Keep Loving Me - Acoustic\n",
      "New Rules\n",
      "Perfect Strangers - Acoustic\n",
      "XO\n",
      "Thunder\n",
      "There's Nothing Holdin Me Back\n",
      "Hello\n",
      "High and Dry\n"
     ]
    }
   ],
   "source": [
    "tracks = sp.playlist_tracks(playlist_id)\n",
    "for track in tracks['items']:\n",
    "    print(track['track']['name'])  # Print each track's name"
   ]
  },
  {
   "cell_type": "markdown",
   "id": "2775714d-acc7-4555-96bd-2c541ab0855e",
   "metadata": {},
   "source": [
    "### Getting Artists from a Playlist\n",
    "\n",
    "To extract all the artists from the tracks in a playlist, you'd typically follow these steps:\n",
    "\n",
    "1. Fetch the playlist's tracks.\n",
    "2. Iterate through each track.\n",
    "3. For each track, extract the associated artists."
   ]
  },
  {
   "cell_type": "code",
   "execution_count": 110,
   "id": "65c5e5c4-f186-42c6-b136-4ef02b0b01ff",
   "metadata": {},
   "outputs": [
    {
     "name": "stdout",
     "output_type": "stream",
     "text": [
      "['Lana Del Rey', 'Daniela Andrade', 'Maroon 5', 'Jasmine Thompson', 'Sam Smith', 'Tom Odell', 'Elton John', 'Dua Lipa', 'Howie Day', 'JP Cooper', 'Ed Sheeran', 'James Bay', 'The Mayries', 'James TW', 'Ouvindo', 'Thomas Daniel', 'Julia Sheer', 'Jon D', 'Missy & Blonde', 'Julia Ross', 'Freedom Fry', 'James Blunt', 'The Civil Wars', 'Kygo', 'Conrad Sewell', 'James Arthur', 'John Mayer', 'Kacey Musgraves', 'Megan Davies', 'Keelan Donovan', 'The Wind and The Wave', 'Lotte Kestner', 'Calum Scott', 'Jessie J', 'Halloran & Kate', 'Gavin James', 'John Legend', 'Lily Allen', 'Sixpence None The Richer', 'Obadiah Parker', 'The Lumineers', 'Joy Williams', 'Molly Parden', 'Hollow Hum', 'Niall Horan', 'Frente!', 'William Fitzsimmons', 'Daniel Powter', 'Joanna Wang', 'Sia', 'Sara Farell', 'Becca Adams', 'Sarah Jarosz', 'Lykke Li', 'Alex Cornell', 'Rachel Brown', 'Clementine Duo', 'Sunset & Highland', 'Kyle Nachtigal', \"Israel Kamakawiwo'ole\", 'Rita Ora', 'Arlo Parks', 'Jaclyn Davies', 'Catey Shaw', 'Reggii', 'The Hound + The Fox', 'The Fray', 'Madilyn Bailey', 'Leroy Sanchez', 'Toploader', 'Francesco Yates', 'Isabella Celander', 'Simon Samaeng', 'Timeflies', \"I'm With Her\", 'Paul Kowert', 'Tore', 'Vivid Color', 'Colin & Caroline', 'Anchor + Bell', 'Jonas Blue', 'Anna Elizabeth Laube', 'The Freed', 'Q.Z.B', 'Erato']\n"
     ]
    }
   ],
   "source": [
    "# List to store unique artist names\n",
    "artists_list = []\n",
    "\n",
    "for track_item in tracks['items']:\n",
    "    track = track_item['track']\n",
    "    for artist in track['artists']:\n",
    "        artist_name = artist['name']\n",
    "        if artist_name not in artists_list:  # This ensures each artist is added only once\n",
    "            artists_list.append(artist_name)\n",
    "\n",
    "print(artists_list)"
   ]
  },
  {
   "cell_type": "markdown",
   "id": "6ca9003e",
   "metadata": {},
   "source": [
    "## Exercise 2: Unraveling the World of Playlists"
   ]
  },
  {
   "cell_type": "markdown",
   "id": "7b52207e-a4f0-4f90-9f4e-3170d7f0f3fe",
   "metadata": {},
   "source": [
    "\n",
    "\n",
    "1. **Featured Exploration**: \n",
    "   - Fetch the list of Spotify's current featured playlists. \n",
    "   - Extract and display the names and IDs of the top 5 featured playlists.\n",
    "   \n",
    "2. **Deep Dive**:\n",
    "   - Choose any one of the top 5 featured playlists (you can choose the one you personally find most interesting or simply pick one randomly).\n",
    "   - Fetch and display its name, description, and total track count.\n",
    "\n",
    "3. **Track-tastic**:\n",
    "   - Extract and display the names of the first 10 tracks in the chosen playlist.\n",
    "\n",
    "4. **Artistic Flair**:\n",
    "   - Create a dictionary where the keys are the names of the first 10 tracks, and the values are lists containing the names of the artists associated with each track.\n",
    "   - For example: `{\"TrackName1\": [\"Artist1\", \"Artist2\"], \"TrackName2\": [\"Artist3\"]}`\n",
    "   "
   ]
  },
  {
   "cell_type": "code",
   "execution_count": 122,
   "id": "38527f3f",
   "metadata": {},
   "outputs": [],
   "source": [
    "a = {\"var1\": [\"a\", \"b\", \"c\"], \"var2\": [\"d\", \"e\", \"f\"]}"
   ]
  },
  {
   "cell_type": "code",
   "execution_count": 121,
   "id": "ed92d961-9646-4375-a386-ccc320a958f5",
   "metadata": {},
   "outputs": [
    {
     "data": {
      "text/html": [
       "<div>\n",
       "<style scoped>\n",
       "    .dataframe tbody tr th:only-of-type {\n",
       "        vertical-align: middle;\n",
       "    }\n",
       "\n",
       "    .dataframe tbody tr th {\n",
       "        vertical-align: top;\n",
       "    }\n",
       "\n",
       "    .dataframe thead th {\n",
       "        text-align: right;\n",
       "    }\n",
       "</style>\n",
       "<table border=\"1\" class=\"dataframe\">\n",
       "  <thead>\n",
       "    <tr style=\"text-align: right;\">\n",
       "      <th></th>\n",
       "      <th>name</th>\n",
       "      <th>id</th>\n",
       "    </tr>\n",
       "  </thead>\n",
       "  <tbody>\n",
       "    <tr>\n",
       "      <th>0</th>\n",
       "      <td>Éxitos España</td>\n",
       "      <td>37i9dQZF1DXaxEKcoCdWHD</td>\n",
       "    </tr>\n",
       "    <tr>\n",
       "      <th>1</th>\n",
       "      <td>Verano 2024</td>\n",
       "      <td>37i9dQZF1DX9gKTxAbfFfX</td>\n",
       "    </tr>\n",
       "    <tr>\n",
       "      <th>2</th>\n",
       "      <td>Viva Latino</td>\n",
       "      <td>37i9dQZF1DX10zKzsJ2jva</td>\n",
       "    </tr>\n",
       "    <tr>\n",
       "      <th>3</th>\n",
       "      <td>PEGAO</td>\n",
       "      <td>37i9dQZF1DX1HCSfq0nSal</td>\n",
       "    </tr>\n",
       "    <tr>\n",
       "      <th>4</th>\n",
       "      <td>Viral España 2024</td>\n",
       "      <td>37i9dQZF1DWVJv1UsWItkB</td>\n",
       "    </tr>\n",
       "  </tbody>\n",
       "</table>\n",
       "</div>"
      ],
      "text/plain": [
       "                name                      id\n",
       "0      Éxitos España  37i9dQZF1DXaxEKcoCdWHD\n",
       "1        Verano 2024  37i9dQZF1DX9gKTxAbfFfX\n",
       "2        Viva Latino  37i9dQZF1DX10zKzsJ2jva\n",
       "3              PEGAO  37i9dQZF1DX1HCSfq0nSal\n",
       "4  Viral España 2024  37i9dQZF1DWVJv1UsWItkB"
      ]
     },
     "execution_count": 121,
     "metadata": {},
     "output_type": "execute_result"
    }
   ],
   "source": [
    "#1. **Featured Exploration**: \n",
    "#   - Fetch the list of Spotify's current featured playlists. \n",
    "#   - Extract and display the names and IDs of the top 5 featured playlists.\n",
    "\n",
    "def get_top_playlists(n = 5):\n",
    "    featured_playlists = sp.featured_playlists()\n",
    "\n",
    "    names = []\n",
    "    ids = []\n",
    "\n",
    "    for i in range(n):\n",
    "        names.append(featured_playlists[\"playlists\"][\"items\"][i][\"name\"])\n",
    "        ids.append(featured_playlists[\"playlists\"][\"items\"][i][\"id\"])\n",
    "\n",
    "    top_playlists = pd.DataFrame({\"name\": names, \"id\": ids})\n",
    "    return top_playlists\n",
    "\n",
    "\n",
    "get_top_playlists(5)"
   ]
  },
  {
   "cell_type": "code",
   "execution_count": 141,
   "id": "465ba3ff",
   "metadata": {},
   "outputs": [
    {
     "name": "stdout",
     "output_type": "stream",
     "text": [
      "PEGAO\n",
      "Si está pegao, está aquí. Feat. Myke Towers\n",
      "40 tracks\n"
     ]
    }
   ],
   "source": [
    "# 2. **Deep Dive**:\n",
    "#   - Choose any one of the top 5 featured playlists (you can choose the one you personally find most interesting or simply pick one randomly).\n",
    "#   - Fetch and display its name, description, and total track count.\n",
    "\n",
    "\n",
    "playlist_id = \"37i9dQZF1DX1HCSfq0nSal\"\n",
    "playlist = sp.playlist(playlist_id)\n",
    "print(playlist[\"name\"])\n",
    "print(playlist[\"description\"])\n",
    "print(playlist[\"tracks\"][\"total\"], \"tracks\")\n"
   ]
  },
  {
   "cell_type": "code",
   "execution_count": 143,
   "id": "9052403b",
   "metadata": {},
   "outputs": [
    {
     "name": "stdout",
     "output_type": "stream",
     "text": [
      "OTRA NOCHE\n",
      "58\n",
      "Vacile\n",
      "Sport+ RMX\n",
      "Tuss\n",
      "DIABLITA (feat. YOVNGCHIMI)\n",
      "PELIGROSA\n",
      "Porsche Carrera\n",
      "La Noche\n",
      "SE TE NOTA\n"
     ]
    }
   ],
   "source": [
    "#3. **Track-tastic**:\n",
    "#   - Extract and display the names of the first 10 tracks in the chosen playlist.\n",
    "\n",
    "tracks = sp.playlist_tracks(playlist_id)\n",
    "for i in range(10):\n",
    "    print(tracks[\"items\"][i][\"track\"][\"name\"])\n",
    "\n",
    "# Print each track's name\n"
   ]
  },
  {
   "cell_type": "code",
   "execution_count": 144,
   "id": "20ba409a",
   "metadata": {},
   "outputs": [
    {
     "name": "stdout",
     "output_type": "stream",
     "text": [
      "{'OTRA NOCHE': ['Myke Towers', 'Darell'], '58': ['JHAYCO', 'Dei V'], 'Vacile': ['Yan Block'], 'Sport+ RMX': ['Clarent', 'Myke Towers'], 'Tuss': ['Bryant Myers', 'Cris Mj'], 'DIABLITA (feat. YOVNGCHIMI)': ['Myke Towers'], 'PELIGROSA': ['FloyyMenor'], 'Porsche Carrera': ['JHAYCO', 'Yandel', 'Haze'], 'La Noche': ['J Balvin', 'Dei V'], 'SE TE NOTA': ['Myke Towers', 'Peso Pluma']}\n"
     ]
    }
   ],
   "source": [
    "#4. **Artistic Flair**:\n",
    "#   - Create a dictionary where the keys are the names of the first 10 tracks, and the values are lists containing the names of the artists associated with each track.\n",
    "#   - For example: `{\"TrackName1\": [\"Artist1\", \"Artist2\"], \"TrackName2\": [\"Artist3\"]}`\n",
    "\n",
    "tracks = sp.playlist_tracks(playlist_id)\n",
    "track_dict = {}\n",
    "\n",
    "for i in range(10):\n",
    "    track_name = tracks[\"items\"][i][\"track\"][\"name\"]\n",
    "    artists = [artist[\"name\"] for artist in tracks[\"items\"][i][\"track\"][\"artists\"]]\n",
    "    track_dict[track_name] = artists\n",
    "\n",
    "print(track_dict)"
   ]
  }
 ],
 "metadata": {
  "kernelspec": {
   "display_name": "Python 3 (ipykernel)",
   "language": "python",
   "name": "python3"
  },
  "language_info": {
   "codemirror_mode": {
    "name": "ipython",
    "version": 3
   },
   "file_extension": ".py",
   "mimetype": "text/x-python",
   "name": "python",
   "nbconvert_exporter": "python",
   "pygments_lexer": "ipython3",
   "version": "3.12.4"
  }
 },
 "nbformat": 4,
 "nbformat_minor": 5
}
